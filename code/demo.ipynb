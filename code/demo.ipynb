{
 "cells": [
  {
   "cell_type": "markdown",
   "id": "1bc46bd0",
   "metadata": {},
   "source": [
    "### IMPLEMENT ITERATIVE PROPORTIONAL FITTING (IPF) USING CLASS IPF FROM IPF_GENERATOR"
   ]
  },
  {
   "cell_type": "markdown",
   "id": "603ccfe4",
   "metadata": {},
   "source": [
    "##### IMPORT LIBRARIES AND MODULES"
   ]
  },
  {
   "cell_type": "code",
   "execution_count": 1,
   "id": "558f383b",
   "metadata": {},
   "outputs": [],
   "source": [
    "import pandas as pd\n",
    "import numpy as np\n",
    "import seaborn as sns\n",
    "import matplotlib.pyplot as plt\n",
    "import scipy\n",
    "from ipf_generator import *\n",
    "from helpers import *\n",
    "from mc_generator import *"
   ]
  },
  {
   "cell_type": "markdown",
   "id": "5d378f20",
   "metadata": {},
   "source": [
    "#### Let us generate synthetic data from two dimensions, age with three age groups (0-17,18-64,64+), and Sex (Male and Female)."
   ]
  },
  {
   "cell_type": "markdown",
   "id": "791d63fd",
   "metadata": {},
   "source": [
    "##### Target counts, age = 0-17 -> 60, 18-64 -> 30, and 65+ -> 10, and \n",
    "##### Target counts, sex = Male -> 40 and female ->60"
   ]
  },
  {
   "cell_type": "code",
   "execution_count": 2,
   "id": "4be0afa6",
   "metadata": {},
   "outputs": [],
   "source": [
    "age = {'0–17': 60, '18–64': 30, '65+': 10}\n",
    "sex = {'Male': 40, 'Female': 60}"
   ]
  },
  {
   "cell_type": "markdown",
   "id": "a47911a4",
   "metadata": {},
   "source": [
    "### FIT MODEL"
   ]
  },
  {
   "cell_type": "code",
   "execution_count": 3,
   "id": "076bd689",
   "metadata": {},
   "outputs": [
    {
     "name": "stdout",
     "output_type": "stream",
     "text": [
      "Matrix converged on 5 iterations\n"
     ]
    }
   ],
   "source": [
    "ipf_model = IPF(age, sex)\n",
    "fitted_matrix = ipf_model.fit()\n"
   ]
  },
  {
   "cell_type": "code",
   "execution_count": 4,
   "id": "c4564fed",
   "metadata": {},
   "outputs": [
    {
     "name": "stdout",
     "output_type": "stream",
     "text": [
      "Final fitted matrix:\n",
      "[[18.95 41.05]\n",
      " [16.9  13.1 ]\n",
      " [ 4.15  5.85]]\n"
     ]
    }
   ],
   "source": [
    "# Visualize the final converged matrix\n",
    "print(f\"Final fitted matrix:\\n{np.round(fitted_matrix,2)}\")"
   ]
  },
  {
   "cell_type": "markdown",
   "id": "8614a02a",
   "metadata": {},
   "source": [
    "### GENERATE SAMPLES"
   ]
  },
  {
   "cell_type": "code",
   "execution_count": 5,
   "id": "2d6258d9",
   "metadata": {},
   "outputs": [
    {
     "data": {
      "text/html": [
       "<div>\n",
       "<style scoped>\n",
       "    .dataframe tbody tr th:only-of-type {\n",
       "        vertical-align: middle;\n",
       "    }\n",
       "\n",
       "    .dataframe tbody tr th {\n",
       "        vertical-align: top;\n",
       "    }\n",
       "\n",
       "    .dataframe thead th {\n",
       "        text-align: right;\n",
       "    }\n",
       "</style>\n",
       "<table border=\"1\" class=\"dataframe\">\n",
       "  <thead>\n",
       "    <tr style=\"text-align: right;\">\n",
       "      <th></th>\n",
       "      <th>Age_group</th>\n",
       "      <th>Sex</th>\n",
       "      <th>Age</th>\n",
       "    </tr>\n",
       "  </thead>\n",
       "  <tbody>\n",
       "    <tr>\n",
       "      <th>0</th>\n",
       "      <td>18–64</td>\n",
       "      <td>Female</td>\n",
       "      <td>64</td>\n",
       "    </tr>\n",
       "    <tr>\n",
       "      <th>1</th>\n",
       "      <td>0–17</td>\n",
       "      <td>Female</td>\n",
       "      <td>9</td>\n",
       "    </tr>\n",
       "    <tr>\n",
       "      <th>2</th>\n",
       "      <td>18–64</td>\n",
       "      <td>Female</td>\n",
       "      <td>31</td>\n",
       "    </tr>\n",
       "    <tr>\n",
       "      <th>3</th>\n",
       "      <td>18–64</td>\n",
       "      <td>Male</td>\n",
       "      <td>53</td>\n",
       "    </tr>\n",
       "    <tr>\n",
       "      <th>4</th>\n",
       "      <td>0–17</td>\n",
       "      <td>Male</td>\n",
       "      <td>11</td>\n",
       "    </tr>\n",
       "  </tbody>\n",
       "</table>\n",
       "</div>"
      ],
      "text/plain": [
       "  Age_group     Sex Age\n",
       "0     18–64  Female  64\n",
       "1      0–17  Female   9\n",
       "2     18–64  Female  31\n",
       "3     18–64    Male  53\n",
       "4      0–17    Male  11"
      ]
     },
     "execution_count": 5,
     "metadata": {},
     "output_type": "execute_result"
    }
   ],
   "source": [
    "samples = ipf_model.generate(n_samples=1000)\n",
    "df = pd.DataFrame(samples, columns=['Age_group','Sex','Age'])\n",
    "df.head()\n",
    "\n"
   ]
  },
  {
   "cell_type": "code",
   "execution_count": 6,
   "id": "c63fab52",
   "metadata": {},
   "outputs": [
    {
     "data": {
      "text/plain": [
       "<bound method Series.mean of 0      64\n",
       "1       9\n",
       "2      31\n",
       "3      53\n",
       "4      11\n",
       "       ..\n",
       "995     1\n",
       "996    47\n",
       "997     2\n",
       "998    98\n",
       "999     4\n",
       "Name: Age, Length: 1000, dtype: object>"
      ]
     },
     "execution_count": 6,
     "metadata": {},
     "output_type": "execute_result"
    }
   ],
   "source": [
    "# plt.hist(df['Age'])\n",
    "# df['Age'].max()\n",
    "df['Age'].mean"
   ]
  },
  {
   "cell_type": "markdown",
   "id": "643a6858",
   "metadata": {},
   "source": [
    "### VALIDATION"
   ]
  },
  {
   "cell_type": "markdown",
   "id": "56b58194",
   "metadata": {},
   "source": [
    "##### Compare Distribution between target and samples"
   ]
  },
  {
   "cell_type": "code",
   "execution_count": 7,
   "id": "1f80442a",
   "metadata": {},
   "outputs": [
    {
     "data": {
      "text/plain": [
       "(Age_group\n",
       " 0–17     0.603\n",
       " 18–64    0.299\n",
       " 65+      0.098\n",
       " Name: proportion, dtype: float64,\n",
       " Sex\n",
       " Female    0.59\n",
       " Male      0.41\n",
       " Name: proportion, dtype: float64)"
      ]
     },
     "execution_count": 7,
     "metadata": {},
     "output_type": "execute_result"
    }
   ],
   "source": [
    "sample_age_dist = df['Age_group'].value_counts(normalize=True)\n",
    "sample_Sex_dist = df['Sex'].value_counts(normalize=True)\n",
    "sample_age_dist, sample_Sex_dist\n"
   ]
  },
  {
   "cell_type": "markdown",
   "id": "3dd9b0bc",
   "metadata": {},
   "source": [
    "##### Plot distributions to visualize the match"
   ]
  },
  {
   "cell_type": "code",
   "execution_count": 8,
   "id": "9d3c4755",
   "metadata": {},
   "outputs": [],
   "source": [
    "# target_age = list(age.values())\n",
    "# target_sex = list(sex.values())\n",
    "\n",
    "order = ['Male', 'Female']\n",
    "sample_Sex_dist = sample_Sex_dist.reindex(order)\n",
    "# Convert input marginals to distributions\n",
    "total = sum(age.values())\n",
    "target_age = pd.Series(age) / total\n",
    "target_sex = pd.Series(sex) / total\n"
   ]
  },
  {
   "cell_type": "code",
   "execution_count": 9,
   "id": "2460f8d4",
   "metadata": {},
   "outputs": [
    {
     "data": {
      "text/plain": [
       "(Male      0.4\n",
       " Female    0.6\n",
       " dtype: float64,\n",
       " Sex\n",
       " Male      0.41\n",
       " Female    0.59\n",
       " Name: proportion, dtype: float64)"
      ]
     },
     "execution_count": 9,
     "metadata": {},
     "output_type": "execute_result"
    }
   ],
   "source": [
    "target_sex, sample_Sex_dist"
   ]
  },
  {
   "cell_type": "code",
   "execution_count": 10,
   "id": "7cb7549a",
   "metadata": {},
   "outputs": [
    {
     "data": {
      "image/png": "[encoded data removed]",
      "text/plain": [
       "<Figure size 1000x400 with 2 Axes>"
      ]
     },
     "metadata": {},
     "output_type": "display_data"
    }
   ],
   "source": [
    "plot_dist(target_age, target_sex, sample_age_dist, sample_Sex_dist)"
   ]
  },
  {
   "cell_type": "markdown",
   "id": "61ff5ef9",
   "metadata": {},
   "source": [
    "##### KL-Divergence"
   ]
  },
  {
   "cell_type": "code",
   "execution_count": 11,
   "id": "62f59cf1",
   "metadata": {},
   "outputs": [
    {
     "name": "stdout",
     "output_type": "stream",
     "text": [
      "KL divergence (age): 0.0000\n",
      "KL divergence (sex): 0.0002\n",
      "Good match\n"
     ]
    }
   ],
   "source": [
    "kl_div(target_age, target_sex, sample_age_dist, sample_Sex_dist)"
   ]
  },
  {
   "cell_type": "markdown",
   "id": "a916c4f6",
   "metadata": {},
   "source": [
    "$\\chi ^2$ test"
   ]
  },
  {
   "cell_type": "code",
   "execution_count": 12,
   "id": "513f7da4",
   "metadata": {},
   "outputs": [
    {
     "name": "stdout",
     "output_type": "stream",
     "text": [
      "No significant difference (p = 1.0000) — Good match.\n"
     ]
    }
   ],
   "source": [
    "chi_square_test(target_age, sample_age_dist, verbose=True)\n"
   ]
  },
  {
   "cell_type": "markdown",
   "id": "823f9704",
   "metadata": {},
   "source": [
    "### MONTE CARLO SIMULATION"
   ]
  },
  {
   "cell_type": "code",
   "execution_count": 16,
   "id": "6c9af35b",
   "metadata": {},
   "outputs": [
    {
     "name": "stdout",
     "output_type": "stream",
     "text": [
      "[['18-64' '23' 'F']\n",
      " ['18-64' '47' 'M']\n",
      " ['18-64' '55' 'M']\n",
      " ...\n",
      " ['0-17' '7' 'F']\n",
      " ['0-17' '9' 'F']\n",
      " ['0-17' '2' 'M']]\n"
     ]
    }
   ],
   "source": [
    "age_dist = {'0-17': 60, '18-64': 30, '65+': 10}\n",
    "sex_dist = {'M': 40, 'F': 60}\n",
    "\n",
    "gen = mc_generator_(age=age_dist, sex=sex_dist)\n",
    "synthetic_data = gen.generate_samples(n_samples=1000)\n",
    "\n",
    "print(synthetic_data)\n"
   ]
  },
  {
   "cell_type": "code",
   "execution_count": 44,
   "id": "2e1355cb",
   "metadata": {},
   "outputs": [
    {
     "data": {
      "text/plain": [
       "(Age_group\n",
       " 0–17     0.603\n",
       " 18–64    0.299\n",
       " 65+      0.098\n",
       " Name: proportion, dtype: float64,\n",
       " sex\n",
       " F    0.616\n",
       " M    0.384\n",
       " Name: proportion, dtype: float64)"
      ]
     },
     "execution_count": 44,
     "metadata": {},
     "output_type": "execute_result"
    }
   ],
   "source": [
    "df_mc = pd.DataFrame(synthetic_data, columns = ['age_group','age','sex'])\n",
    "sample_age_mc = df_mc['age_group'].value_counts(normalize=True)\n",
    "sample_sex_mc = df_mc['sex'].value_counts(normalize=True)\n",
    "sample_age_dist, sample_sex_mc\n",
    "\n",
    "# target_age, target_sex"
   ]
  },
  {
   "cell_type": "code",
   "execution_count": 45,
   "id": "200cc325",
   "metadata": {},
   "outputs": [
    {
     "data": {
      "text/plain": [
       "sex\n",
       "M    0.384\n",
       "F    0.616\n",
       "Name: proportion, dtype: float64"
      ]
     },
     "execution_count": 45,
     "metadata": {},
     "output_type": "execute_result"
    }
   ],
   "source": [
    "order = ['M', 'F']\n",
    "sample_sex_mc = sample_sex_mc.reindex(order)\n",
    "sample_sex_mc"
   ]
  },
  {
   "cell_type": "markdown",
   "id": "675aa393",
   "metadata": {},
   "source": [
    "### PLOT"
   ]
  },
  {
   "cell_type": "code",
   "execution_count": 46,
   "id": "d301d19d",
   "metadata": {},
   "outputs": [
    {
     "data": {
      "image/png": "[encoded data removed]",
      "text/plain": [
       "<Figure size 1000x400 with 2 Axes>"
      ]
     },
     "metadata": {},
     "output_type": "display_data"
    }
   ],
   "source": [
    "\n",
    "# Convert input marginals to distributions\n",
    "total = sum(age_dist.values())\n",
    "target_age = pd.Series(age_dist) / total\n",
    "target_sex = pd.Series(sex_dist) / total\n",
    "plot_dist(target_age, target_sex, sample_age_mc, sample_sex_mc)"
   ]
  },
  {
   "cell_type": "markdown",
   "id": "c0f7b27d",
   "metadata": {},
   "source": [
    "### KL DIVERGENCE"
   ]
  },
  {
   "cell_type": "code",
   "execution_count": 47,
   "id": "860b5e90",
   "metadata": {},
   "outputs": [
    {
     "name": "stdout",
     "output_type": "stream",
     "text": [
      "KL divergence (age): 0.0004\n",
      "KL divergence (sex): 0.0005\n",
      "Good match\n"
     ]
    }
   ],
   "source": [
    "kl_div(target_age, target_sex, sample_age_mc, sample_sex_mc)\n"
   ]
  },
  {
   "cell_type": "markdown",
   "id": "a18543fb",
   "metadata": {},
   "source": [
    "### $\\chi^2 $ test"
   ]
  },
  {
   "cell_type": "code",
   "execution_count": 49,
   "id": "29122bf2",
   "metadata": {},
   "outputs": [
    {
     "name": "stdout",
     "output_type": "stream",
     "text": [
      "No significant difference (p = 0.9996) — Good match.\n",
      "No significant difference (p = 0.9738) — Good match.\n"
     ]
    }
   ],
   "source": [
    "chi_square_test(target_age, sample_age_mc, verbose=True)\n",
    "chi_square_test(target_sex, sample_sex_mc, verbose=True)\n",
    "\n"
   ]
  },
  {
   "cell_type": "code",
   "execution_count": null,
   "id": "216fc74b",
   "metadata": {},
   "outputs": [],
   "source": []
  }
 ],
 "metadata": {
  "kernelspec": {
   "display_name": "idm",
   "language": "python",
   "name": "python3"
  },
  "language_info": {
   "codemirror_mode": {
    "name": "ipython",
    "version": 3
   },
   "file_extension": ".py",
   "mimetype": "text/x-python",
   "name": "python",
   "nbconvert_exporter": "python",
   "pygments_lexer": "ipython3",
   "version": "3.11.13"
  }
 },
 "nbformat": 4,
 "nbformat_minor": 5
}
